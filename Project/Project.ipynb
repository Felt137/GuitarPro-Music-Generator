{
 "cells": [
  {
   "cell_type": "markdown",
   "metadata": {},
   "source": [
    "# GuitarPro files generator"
   ]
  },
  {
   "cell_type": "markdown",
   "metadata": {},
   "source": [
    "## 1.Abstract\n",
    "Цель проекта — написание нот для гитары, а именно табов, в формате популярной программы GuitarPro. Проект содержит парсер, принимающий файл в формате .gp5. Нейронная сеть берёт его часть за начало композиции и генерирует продолжение, а после сохраняет его в том же формате."
   ]
  },
  {
   "cell_type": "markdown",
   "metadata": {},
   "source": [
    "## 2. GuitarPro parser and writer"
   ]
  },
  {
   "cell_type": "markdown",
   "metadata": {},
   "source": [
    "Для чтения и записи файлов используется библиотека PyGuitarPro. На самом деле, одной из самых сложных задач оказалась именно разработка системы, конвертирующей сложный файл в нечто максимально простое - строку из чисел. Каждый такт исходного файла кодируется 192 числами, где 192 = 32 * 6 — 6 струн и дискретизация такта на 32 части."
   ]
  },
  {
   "cell_type": "code",
   "execution_count": null,
   "metadata": {},
   "outputs": [],
   "source": [
    "NUM_BEATS_PER_MEASURE = 32\n",
    "NUM_STRINGS = 6\n",
    "standart_tuning = [64, 59, 55, 50, 45, 40]\n",
    "measure_copy = None\n",
    "song_copy = None\n",
    "from copy import deepcopy\n",
    "import guitarpro as gp\n",
    "import numpy as np"
   ]
  },
  {
   "cell_type": "code",
   "execution_count": null,
   "metadata": {},
   "outputs": [],
   "source": [
    "def to_standart_tuning(song: gp.Song):\n",
    "    tuning = [song.tracks[0].strings[i].value for i in range(6)]\n",
    "    tuning_shift = [tuning[i] - standart_tuning[i] for i in range(6)]\n",
    "    #currently we just forget about capo\n",
    "    min_note_val = 1000\n",
    "    for track in song.tracks:\n",
    "        for measure in track.measures:\n",
    "            for voice in measure.voices:\n",
    "                for beat in voice.beats:\n",
    "                    for note in beat.notes:\n",
    "                        note.value += tuning_shift[note.string - 1]\n",
    "                        min_note_val = min(min_note_val, note.value)\n",
    "    for track in song.tracks:\n",
    "        for measure in track.measures:\n",
    "            for voice in measure.voices:\n",
    "                for beat in voice.beats:\n",
    "                    for note in beat.notes:\n",
    "                        note.value -= min_note_val\n",
    "                                                \n"
   ]
  },
  {
   "cell_type": "code",
   "execution_count": null,
   "metadata": {},
   "outputs": [],
   "source": [
    "def parse_gp5_to_fret_list(file_path):\n",
    "    global measure_copy\n",
    "    global song_copy\n",
    "    song = gp.parse(file_path)\n",
    "    to_standart_tuning(song)\n",
    "    song_copy = song\n",
    "    fret_list = []\n",
    "\n",
    "\n",
    "    for track in song.tracks[:1]:\n",
    "        for measure in track.measures:\n",
    "            measure_frets = np.full((32, 6), -1)\n",
    "            for voice in measure.voices:\n",
    "                if measure_copy is None:\n",
    "                    measure_copy = deepcopy(measure)\n",
    "                total_ticks = measure.length\n",
    "                ticks_per_slot = total_ticks / 32\n",
    "\n",
    "                current_time_ticks = 0\n",
    "                for beat in voice.beats:\n",
    "                    beat_start_time = current_time_ticks\n",
    "                    beat_duration_ticks = beat.duration.time\n",
    "\n",
    "                    for note in beat.notes:\n",
    "                        if note.type in (gp.NoteType.tie, gp.NoteType.dead):\n",
    "                            continue\n",
    "                        string_index = note.string - 1\n",
    "                        fret_value = note.value\n",
    "\n",
    "                        start_slot = int(beat_start_time / ticks_per_slot)\n",
    "                        end_slot = int((beat_start_time + beat_duration_ticks) / ticks_per_slot)\n",
    "\n",
    "                        start_slot = max(0, min(31, start_slot))\n",
    "                        end_slot = max(0, min(31, end_slot))\n",
    "\n",
    "                    \n",
    "                        measure_frets[start_slot][string_index] = fret_value\n",
    "                    current_time_ticks += beat_duration_ticks\n",
    "            # print(\"beat values: \", *[beat.duration.value for beat in measure.voices[0].beats], sum([beat.duration.value for beat in measure.voices[0].beats]))\n",
    "            # print(\"duratoin sum: \", sum([beat.duration.value for beat in measure.voices[0].beats]))\n",
    "            # print(\"start: \", *[beat.start for beat in measure.voices[0].beats])\n",
    "            # print(\"in me: \", *[beat.startInMeasure for beat in measure.voices[0].beats])\n",
    "\n",
    "            fret_list.extend(measure_frets)\n",
    "\n",
    "    flat_fret_list = [item.item() for sublist in fret_list for item in sublist]\n",
    "\n",
    "    return flat_fret_list\n"
   ]
  },
  {
   "cell_type": "code",
   "execution_count": null,
   "metadata": {},
   "outputs": [],
   "source": [
    "def create_gp5_from_fret_list(fret_list, output_file_path, duration_per_slot=1, tempo=120):\n",
    "    song = gp.Song()\n",
    "    track = song.tracks[0]\n",
    "    track.measures.clear()\n",
    "    MEASURE_DURATION = 3840\n",
    "    BEAT_DURATION = MEASURE_DURATION // NUM_BEATS_PER_MEASURE\n",
    "    OFFSET = 960\n",
    "    # OFFSET = 0\n",
    "    for measure_idx in range(len(fret_list) // NUM_STRINGS // NUM_BEATS_PER_MEASURE):\n",
    "        measure = gp.Measure(track=track, header=gp.MeasureHeader(number=measure_idx + 1, start=OFFSET + MEASURE_DURATION * measure_idx))\n",
    "        measure.start = measure.header.start\n",
    "\n",
    "        measure.voices = measure.voices[0:]\n",
    "        voice = measure.voices[0]\n",
    "\n",
    "        voice.beats.clear()\n",
    "        empty_beats_streak = 0\n",
    "        for beat_idx in range(NUM_BEATS_PER_MEASURE):\n",
    "            beat = gp.Beat(voice=voice, duration=gp.Duration(NUM_BEATS_PER_MEASURE))\n",
    "            beat.notes.clear()\n",
    "            beat.start = measure.start + beat_idx * BEAT_DURATION\n",
    "            for string_idx in range(NUM_STRINGS):\n",
    "                note_idx = measure_idx * NUM_STRINGS * NUM_BEATS_PER_MEASURE + beat_idx * NUM_STRINGS + string_idx\n",
    "                if fret_list[note_idx] != -1:\n",
    "                    beat.notes.append(gp.Note(beat=beat, value=fret_list[note_idx], string=string_idx + 1   ))\n",
    "            # if len(beat.notes) != 0 or len(voice.beats) == 0:\n",
    "            #     voice.beats.append(beat)\n",
    "            # else:\n",
    "            #     voice.beats[-1].duration = gp.Duration(voice.beats[-1].duration.time + BEAT_DURATION)\n",
    "            #     pass\n",
    "            if len(beat.notes) != 0:\n",
    "                # beat.status = gp.BeatStatus.normal\n",
    "                while empty_beats_streak > 0:\n",
    "                    biggest_possible_duration = NUM_BEATS_PER_MEASURE\n",
    "                    beat_len = 1\n",
    "                    while beat_len * 2 <= empty_beats_streak:\n",
    "                        beat_len *= 2\n",
    "                        biggest_possible_duration //= 2\n",
    "                    voice.beats.append(gp.Beat(voice=voice, duration=gp.Duration(biggest_possible_duration)))\n",
    "                    empty_beats_streak -= beat_len\n",
    "                voice.beats.append(beat)\n",
    "            else:\n",
    "                if beat_idx == 0:\n",
    "                    voice.beats.append(beat)\n",
    "                else:\n",
    "                    empty_beats_streak += 1\n",
    "                    last_beat_len = NUM_BEATS_PER_MEASURE // voice.beats[-1].duration.value\n",
    "                    if last_beat_len <= empty_beats_streak:\n",
    "                        empty_beats_streak -= last_beat_len\n",
    "                        voice.beats[-1].duration.value //= 2\n",
    "        # print(\"start: \", *[beat.start for beat in voice.beats])\n",
    "        # measure.voices.append(voice)\n",
    "        # print(\"beat values: \", *[beat.duration.value for beat in measure.voices[0].beats], sum([beat.duration.value for beat in measure.voices[0].beats]))\n",
    "        track.measures.append(measure)\n",
    "        # song_copy.tracks[0].measures[0] = measure\n",
    "        \n",
    "        # song.tracks[0].measures.append(measure)\n",
    "    # print(len(song.tracks[1].measures), len(track.measures),)\n",
    "    # print(len(track.measures))\n",
    "    song.tempo = tempo\n",
    "    song.tracks[0].fretCount = 45\n",
    "    gp.write(song=song, stream=output_file_path)\n"
   ]
  },
  {
   "cell_type": "code",
   "execution_count": null,
   "metadata": {
    "tags": [
     "parameters"
    ]
   },
   "outputs": [],
   "source": [
    "active_parser_test = False\n",
    "\n",
    "exec_scenario = 2\n",
    "path_id = 6\n",
    "paths = [\"\", \n",
    "        \"Unravel Full Version Tokyo Ghoul OP1.gp5\", \n",
    "        \"Abnormalize.gp5\",\n",
    "        \"howls_moving_castle.gp5\",\n",
    "        \"Mahoutsukai_no_Yome_OP.gp5\",\n",
    "        \"--Табы--/Main/Luca Stricagnoli/The_Prodigy/The_Prodigy_Tab.gp5\",\n",
    "        \"--Табы--/Main/Luca Stricagnoli/Gangsta´s Paradise/Gangstaяs Paradise.gp5\"\n",
    "        ]"
   ]
  },
  {
   "cell_type": "code",
   "execution_count": null,
   "metadata": {},
   "outputs": [],
   "source": [
    "if active_parser_test:\n",
    "    fret_list = [0] * 6 * 3200\n",
    "    match exec_scenario:\n",
    "        case 1:\n",
    "            file_path = 'Test.gp5'\n",
    "            fret_list = parse_gp5_to_fret_list(file_path) \n",
    "        case 2:\n",
    "            file_path = paths[path_id]\n",
    "            fret_list = parse_gp5_to_fret_list(file_path)\n",
    "            # for i in range(len(fret_list)//6):\n",
    "            #     for j in range(6):\n",
    "            #         print(fret_list[i * 6 + j], end=' ')\n",
    "            #     print(\"\")\n",
    "        case 3:\n",
    "            file_path = paths[path_id]\n",
    "            song = gp.parse(file_path)\n",
    "            to_standart_tuning(song)\n",
    "    output_file_path = 'output_file.gp5'\n",
    "    note_duration_ticks = 120  # Duration of each note in ticks\n",
    "    tempo = 120  # Tempo in BPM\n",
    "    # print([song_copy.tracks[0].strings[i].value for i in range(6)])\n",
    "    create_gp5_from_fret_list(fret_list, output_file_path, note_duration_ticks, tempo)"
   ]
  },
  {
   "cell_type": "markdown",
   "metadata": {},
   "source": [
    "## 3. Model training"
   ]
  },
  {
   "cell_type": "markdown",
   "metadata": {},
   "source": [
    "Используется простая модель, предсказывающая следующий символ в последовательности."
   ]
  },
  {
   "cell_type": "code",
   "execution_count": null,
   "metadata": {},
   "outputs": [],
   "source": [
    "# from pathlib import Path\n",
    "# import shutil\n",
    "\n",
    "# author_selection = [\"Eddie\", \"Luca\", \"Sungha\"]\n",
    "\n",
    "# pathlist = Path(\"--Табы--\").glob('**/*.gp5')\n",
    "# for path in pathlist:\n",
    "#     if [str(path).find(author) for author in author_selection] != [-1] * len(author_selection):\n",
    "#         # print(path)\n",
    "#         shutil.copy(path, \"DatasetSelection\")\n",
    "    "
   ]
  },
  {
   "cell_type": "code",
   "execution_count": null,
   "metadata": {},
   "outputs": [],
   "source": [
    "import nltk\n",
    "import tqdm\n",
    "from collections import Counter\n",
    "import torch\n",
    "from torch.utils.data import Dataset, DataLoader\n",
    "from sklearn.model_selection import train_test_split\n",
    "import os\n",
    "from copy import deepcopy"
   ]
  },
  {
   "cell_type": "code",
   "execution_count": null,
   "metadata": {},
   "outputs": [],
   "source": [
    "device = torch.device(\"cuda\" if torch.cuda.is_available() else \"cpu\")"
   ]
  },
  {
   "cell_type": "code",
   "execution_count": null,
   "metadata": {
    "tags": [
     "parameters"
    ]
   },
   "outputs": [],
   "source": [
    "train_window_len_measures = 8\n",
    "train_window_len = train_window_len_measures * NUM_BEATS_PER_MEASURE * NUM_STRINGS\n",
    "training = False"
   ]
  },
  {
   "cell_type": "markdown",
   "metadata": {},
   "source": [
    "После парсинга датасет состоит из числел от -1 до примерно 25-30, потому достаточно сделать сдвиг всего датасета на +1."
   ]
  },
  {
   "cell_type": "code",
   "execution_count": null,
   "metadata": {},
   "outputs": [],
   "source": [
    "tabs = []\n",
    "if training:\n",
    "    dataset_name = \"DatasetFull\"\n",
    "    for path in tqdm.tqdm(os.listdir(os.fsencode(dataset_name))):\n",
    "        try:\n",
    "            full_song_tabs = parse_gp5_to_fret_list(dataset_name + '/' + path.decode())\n",
    "            l, r = 0, train_window_len\n",
    "            while l < len(full_song_tabs):\n",
    "                tabs.append([val + 1 for val in full_song_tabs[l:min(r, len(full_song_tabs))]])\n",
    "                l = r\n",
    "                r += torch.randint(1, train_window_len_measures, (1,)).item() * NUM_BEATS_PER_MEASURE * NUM_STRINGS\n",
    "        except:\n",
    "            # print(path)\n",
    "            pass\n",
    "else:\n",
    "    tabs = [[-1] for i in range(5)]"
   ]
  },
  {
   "cell_type": "code",
   "execution_count": null,
   "metadata": {},
   "outputs": [],
   "source": [
    "#учитываем 0 и паддинг\n",
    "alph_size = max([max(tab) for tab in tabs]) + 2\n",
    "pad_id = alph_size - 1"
   ]
  },
  {
   "cell_type": "code",
   "execution_count": null,
   "metadata": {},
   "outputs": [],
   "source": [
    "def trans_func(input_batch, pad_id = pad_id):\n",
    "    max_tab_len = max([len(tab) for tab in input_batch])\n",
    "    new_batch = []\n",
    "    for tab in input_batch:\n",
    "        new_batch.append(deepcopy(tab))\n",
    "        new_batch[-1].extend([pad_id for _ in range(max_tab_len - len(tab))])\n",
    "\n",
    "    tensor = torch.LongTensor(new_batch).to(device)\n",
    "    new_batch = {\n",
    "        \"input_ids\": tensor[:, :-1],\n",
    "        \"target_ids\": tensor[:, 1:]\n",
    "    }\n",
    "    return new_batch"
   ]
  },
  {
   "cell_type": "code",
   "execution_count": null,
   "metadata": {},
   "outputs": [],
   "source": [
    "train_tabs, test_tabs = train_test_split(tabs, test_size=0.2)"
   ]
  },
  {
   "cell_type": "code",
   "execution_count": null,
   "metadata": {},
   "outputs": [],
   "source": [
    "batch_sz = train_window_len_measures * 3\n",
    "\n",
    "train_dataloader = DataLoader(\n",
    "    train_tabs, collate_fn=trans_func, batch_size=batch_sz\n",
    ")\n",
    "\n",
    "eval_dataloader = DataLoader(\n",
    "    test_tabs, collate_fn=trans_func, batch_size=batch_sz\n",
    ")"
   ]
  },
  {
   "cell_type": "code",
   "execution_count": null,
   "metadata": {},
   "outputs": [],
   "source": [
    "class TGM(torch.nn.Module):\n",
    "    def __init__(self, hidden_dim, vocab_size):\n",
    "        super().__init__()\n",
    "        self.embedding = torch.nn.Embedding(vocab_size, hidden_dim)\n",
    "        self.rnn = torch.nn.GRU(hidden_dim, hidden_dim, batch_first=True)\n",
    "        self.linear = torch.nn.Linear(hidden_dim, hidden_dim)\n",
    "        self.linear2 = torch.nn.Linear(hidden_dim, vocab_size)\n",
    "        self.non_lin = torch.nn.Tanh()\n",
    "        self.dropout = torch.nn.Dropout(p=0.1)\n",
    "\n",
    "    def forward(self, input_batch):\n",
    "        embeddings = self.embedding(input_batch)\n",
    "        out, _ = self.rnn(embeddings)\n",
    "        out = self.dropout(self.linear(self.non_lin(out)))\n",
    "        out = self.linear(self.non_lin(out))\n",
    "        res = self.linear2(self.non_lin(out))\n",
    "        return res"
   ]
  },
  {
   "cell_type": "code",
   "execution_count": null,
   "metadata": {},
   "outputs": [],
   "source": [
    "def evaluate(model, crit):\n",
    "    model.eval()\n",
    "    perplexity = []\n",
    "    with torch.no_grad():\n",
    "        for batch in eval_dataloader:\n",
    "            logs = model(batch[\"input_ids\"]).flatten(start_dim=0, end_dim=1)\n",
    "            loss = crit(\n",
    "                logs,\n",
    "                batch[\"target_ids\"].flatten()\n",
    "            )\n",
    "            perplexity.append(torch.exp(loss).item())\n",
    "    return sum(perplexity) / len(perplexity)"
   ]
  },
  {
   "cell_type": "code",
   "execution_count": null,
   "metadata": {},
   "outputs": [],
   "source": [
    "def evaluate_experimental(model, crit):\n",
    "    model.eval()\n",
    "    total_loss = 0.0\n",
    "    total_tokens = 0\n",
    "    \n",
    "    with torch.no_grad():\n",
    "        for batch in eval_dataloader:\n",
    "            input_ids = batch[\"input_ids\"]\n",
    "            target_ids = batch[\"target_ids\"]\n",
    "            \n",
    "            # Forward pass\n",
    "            logits = model(input_ids)\n",
    "            \n",
    "            # Compute loss over the entire batch in one go\n",
    "            loss = crit(logits.view(-1, logits.size(-1)), target_ids.view(-1))\n",
    "            \n",
    "            # Accumulate total loss scaled by the number of tokens\n",
    "            total_loss += loss.item() * target_ids.numel()\n",
    "            total_tokens += target_ids.numel()\n",
    "    \n",
    "    # Compute the average loss and perplexity\n",
    "    average_loss = total_loss / total_tokens\n",
    "    perplexity = torch.exp(torch.tensor(average_loss))\n",
    "    \n",
    "    return perplexity.item()\n"
   ]
  },
  {
   "cell_type": "code",
   "execution_count": null,
   "metadata": {},
   "outputs": [],
   "source": [
    "model = TGM(hidden_dim=400, vocab_size=alph_size).to(device)"
   ]
  },
  {
   "cell_type": "code",
   "execution_count": null,
   "metadata": {},
   "outputs": [],
   "source": [
    "crit = torch.nn.CrossEntropyLoss(ignore_index=pad_id)\n",
    "optimizer = torch.optim.AdamW(model.parameters())"
   ]
  },
  {
   "cell_type": "code",
   "execution_count": null,
   "metadata": {},
   "outputs": [],
   "source": [
    "if training:\n",
    "    num_ep = 10000\n",
    "    losses = []\n",
    "    perplexities = []\n",
    "\n",
    "    for ep in range(1, num_ep):\n",
    "        ep_losses = []\n",
    "        model.train()\n",
    "        for batch in tqdm.tqdm(train_dataloader, desc=f'Training ep {ep}'):\n",
    "            optimizer.zero_grad()\n",
    "            logs = model(batch[\"input_ids\"]).flatten(start_dim=0, end_dim=1)\n",
    "            loss = crit(\n",
    "                logs, batch[\"target_ids\"].flatten()\n",
    "            )\n",
    "            loss.backward()\n",
    "            optimizer.step()\n",
    "\n",
    "            ep_losses.append(loss.item())\n",
    "        losses.append(sum(ep_losses) / len(ep_losses))\n",
    "        perplexities.append(evaluate(model, crit))\n",
    "        # print(losses[-1], perplexities[-1])\n",
    "        if (ep % 100 == 0):\n",
    "            torch.save(model, str(ep) + \" ep model\")\n",
    "        \n",
    "else:\n",
    "    model = torch.load(\"SavedModels/200 ep model\")"
   ]
  },
  {
   "cell_type": "markdown",
   "metadata": {},
   "source": [
    "### Графики losses и perplexities после 549 эпох"
   ]
  },
  {
   "attachments": {
    "Losses.png": {
     "image/png": "[encoded data removed]"
    },
    "Perplexities.png": {
     "image/png": "[encoded data removed]"
    }
   },
   "cell_type": "markdown",
   "metadata": {},
   "source": [
    "#### Losses\n",
    "<!-- $\\newline$  -->\n",
    "![Losses.png](attachment:Losses.png)\n",
    "$\\newline$ \n",
    "#### Perplexities\n",
    "<!-- $\\newline$  -->\n",
    "![Perplexities.png](attachment:Perplexities.png)"
   ]
  },
  {
   "cell_type": "markdown",
   "metadata": {},
   "source": [
    "## 4. Output generating"
   ]
  },
  {
   "cell_type": "markdown",
   "metadata": {},
   "source": [
    "При использовании argmax() наблюдалась генерация преимущественно пустой последовательности, потому используется softmax, решающий упомянутую проблему и избавляющий от детерминированности."
   ]
  },
  {
   "cell_type": "code",
   "execution_count": null,
   "metadata": {},
   "outputs": [],
   "source": [
    "model.eval()"
   ]
  },
  {
   "cell_type": "code",
   "execution_count": null,
   "metadata": {},
   "outputs": [],
   "source": [
    "def softmax_with_temperature(logits, temperature=1.0):\n",
    "    logits = logits / temperature\n",
    "    exp_logits = torch.exp(logits - torch.max(logits))\n",
    "    return exp_logits / torch.sum(exp_logits)\n",
    "\n",
    "def generate_seq(input_seq, length, temperature=1.0):\n",
    "    input_seq_copy = deepcopy(input_seq)\n",
    "    \n",
    "    for _ in range(length):\n",
    "        logits = model(input_seq_copy)[-1]\n",
    "        probabilities = softmax_with_temperature(logits, temperature)\n",
    "        next_note = probabilities.multinomial(num_samples=1)\n",
    "        input_seq_copy = torch.cat((input_seq_copy, next_note))\n",
    "        \n",
    "    return input_seq_copy"
   ]
  },
  {
   "cell_type": "code",
   "execution_count": null,
   "metadata": {},
   "outputs": [],
   "source": [
    "def generate(input_path, output_path, start = 0, len_measures = train_window_len_measures, ouput_measure_number=5, softmax=True):\n",
    "    input_tabs = torch.LongTensor(parse_gp5_to_fret_list(input_path)\n",
    "                                  [start * NUM_BEATS_PER_MEASURE * NUM_STRINGS :\n",
    "                                   (start + len_measures) * NUM_BEATS_PER_MEASURE * NUM_STRINGS]).to(device) + 1\n",
    "    if softmax:\n",
    "        input_tabs = generate_seq(input_tabs, ouput_measure_number * NUM_BEATS_PER_MEASURE * NUM_STRINGS)\n",
    "    else:\n",
    "        for i in range(ouput_measure_number * NUM_BEATS_PER_MEASURE * NUM_STRINGS):\n",
    "            vectorized_c = model(input_tabs)[-1].argmax().unsqueeze(0)\n",
    "            input_tabs = torch.cat((input_tabs, vectorized_c))\n",
    "    create_gp5_from_fret_list(input_tabs - 1, output_path)"
   ]
  },
  {
   "cell_type": "markdown",
   "metadata": {},
   "source": [
    "Для генерации достаточно в клетке ниже указать input_path — путь к файлу в формате .gp5, а также указать параметры генерации в аргументах функции generate (можно оставить значения по умолчанию)"
   ]
  },
  {
   "cell_type": "code",
   "execution_count": null,
   "metadata": {},
   "outputs": [],
   "source": [
    "# inputs = {\n",
    "#     0: \"\",\n",
    "#     1: \"--Табы--/Резерв от JR/Marcin Partzalek/System_Of_a_Down_-_Toxicity.gp5\",\n",
    "#     2: \"--Табы--/Резерв от JR/Marcin Partzalek/System_of_a_Down_-_Aerials.gp5\",\n",
    "#     3: \"--Табы--/Резерв от JR/presnyakov_igor-listen_to_your_heart.gp5\",\n",
    "#     4: \"Dense.gp5\",\n",
    "#     5: \"Unravel Full Version Tokyo Ghoul OP1.gp5\",\n",
    "#     6: \"C:/Users/fsvuu/Downloads/beethoven-moonlight_sonata_6.gp5\",\n",
    "#     7: \"Turkish March.gp5\",\n",
    "#     8: \"1 Acoustic VS Electric - Marcin (Acoustic TAB).gp5\",\n",
    "#     9: \"SHAPE_OF_YOU_-_MARCIN_PATRZALEK_TAB.gp5\",\n",
    "#     10: \"3 Toccata - Marcin (TAB).gp5\",\n",
    "#     11: \"Deja-Vu.gp5\",\n",
    "#     12: \"Dumb_Ways_To_Die.gp5\",\n",
    "#     13: \"I_Really_Want_to_Stay_at_Your_House.gp5\",\n",
    "#     14: \"Tommy_Emmanuel_-_Guitar_Boogie.gp5\",\n",
    "#     15: \"Tommy_Emmanuel_-_Angelina.gp5\",\n",
    "#     16: \"Empty.gp5\"\n",
    "# }\n",
    "\n",
    "# input_path = \"Test/\" + inputs[16]\n",
    "\n",
    "input_path = \"Test/Empty.gp5\"\n",
    "\n",
    "try:\n",
    "    generate(input_path, \"output.gp5\", start=0, len_measures=train_window_len_measures, ouput_measure_number=4)\n",
    "except:\n",
    "    print(\"Не получилось :(\")"
   ]
  },
  {
   "cell_type": "markdown",
   "metadata": {},
   "source": [
    "Примеры генераций, сгенерированная часть начинается с 15-й секунды:\n",
    "$\\newline$ \n",
    "\n",
    "<audio controls src=\"output-shape_of_you.mp3\" title=\"Title\"></audio>\n",
    "\n",
    "$\\newline$\n",
    "\n",
    "<audio controls src=\"output-toccata.mp3\" title=\"Title\"></audio>\n",
    "\n",
    "$\\newline$ \n",
    "\n",
    "<audio controls src=\"output-osamurisan.mp3\" title=\"Title\"></audio>\n",
    "\n",
    "А также, вот что будет, если подать на вход 1 пустой такт:\n",
    "\n",
    "<audio controls src=\"output-empty.mp3\" title=\"Title\"></audio>\n",
    "\n",
    "<audio controls src=\"output-empty_8m.mp3\" title=\"Title\"></audio>"
   ]
  },
  {
   "cell_type": "markdown",
   "metadata": {},
   "source": [
    "## 5. Conclusion\n",
    "\n",
    "Цель достигнута, однако сгенерированные последовательности тяжело назвать музыкой (примеры выше — лучшее, что у меня получилось). По всей видимости, это предел выбранной архитектуры и инженерного решения о представлении табулатуры в понятном модели виде."
   ]
  },
  {
   "cell_type": "markdown",
   "metadata": {},
   "source": [
    "_Примечание: использованный для обучения датасет — моя личная коллекция, и не спрашивайте, откуда у меня столько табов :)_"
   ]
  }
 ],
 "metadata": {
  "kernelspec": {
   "display_name": "Python 3",
   "language": "python",
   "name": "python3"
  },
  "language_info": {
   "codemirror_mode": {
    "name": "ipython",
    "version": 3
   },
   "file_extension": ".py",
   "mimetype": "text/x-python",
   "name": "python",
   "nbconvert_exporter": "python",
   "pygments_lexer": "ipython3",
   "version": "3.12.5"
  }
 },
 "nbformat": 4,
 "nbformat_minor": 2
}
